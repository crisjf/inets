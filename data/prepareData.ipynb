{
 "cells": [
  {
   "cell_type": "code",
   "execution_count": 11,
   "metadata": {
    "collapsed": false
   },
   "outputs": [],
   "source": [
    "import monetdb.sql,pandas as pd,binet as bnt,numpy as np\n",
    "def exportJS(varname,data):  \n",
    "    fname = varname+'.js'\n",
    "    f = open(fname,mode='w')\n",
    "    f.write(('const '+varname+' = '+data.to_json(orient='records')+' \\nexport default '+varname).encode('utf-8'))\n",
    "    f.close()\n",
    "\n",
    "connection = monetdb.sql.connect(username='monetdb', password='monetdb', hostname='a.media.mit.edu', database=\"pan2\")\n",
    "cursor = connection.cursor()"
   ]
  },
  {
   "cell_type": "code",
   "execution_count": 50,
   "metadata": {
    "collapsed": false
   },
   "outputs": [],
   "source": [
    "query = 'SELECT b.yr,t.cityid,b.branschagg,sum(b.prodvalue_adj) FROM setownbransch b INNER JOIN setowns t ON b.townid=t.townid WHERE not t.landsbygd GROUP BY b.yr,t.cityid,b.branschagg;'\n",
    "cursor.execute(query)\n",
    "data = pd.DataFrame(cursor.fetchall(),columns=['year','cityid','bcode','X'])\n",
    "\n",
    "query = 'SELECT branschagg,branschname_en,grp FROM sebranschagg;'\n",
    "cursor.execute(query)\n",
    "bnames = pd.DataFrame(cursor.fetchall(),columns=['bcode','bname','bgroup'])\n",
    "\n",
    "query = 'SELECT c.cityid,c.cityname,r.regionname FROM secities c INNER JOIN seregions r ON c.regionid=r.regionid WHERE not c.landsbygd;'\n",
    "cursor.execute(query)\n",
    "cnames = pd.DataFrame(cursor.fetchall(),columns=['cityid','cityname','regionname'])\n",
    "cnames = cnames.append([{'cityid':0,'cityname':'Sweden','regionname':'Sweden'}])"
   ]
  },
  {
   "cell_type": "code",
   "execution_count": 5,
   "metadata": {
    "collapsed": false,
    "scrolled": true
   },
   "outputs": [],
   "source": [
    "net = bnt.calculateRCA(data,y='year',c='cityid',p='bcode',x='X')\n",
    "net.loc[net['X']==0,'RCA'] = 0\n",
    "net = net[net['RCA']>=1]\n",
    "\n",
    "nYears = data[['year','bcode']].drop_duplicates().groupby('bcode').count()[['year']].rename(columns={'year':'nYears'}).reset_index()\n",
    "R = bnt.countBoth(net,t='year',c='cityid',p='bcode')\n",
    "R = R.groupby(['bcode','bcodep']).sum().drop('year',1).reset_index()\n",
    "R = pd.merge(R,nYears,how='left')\n",
    "R = pd.merge(R,nYears.rename(columns={'bcode':'bcodep','nYears':'nYearsp'}),how='left')\n",
    "R['nYears'] = R[['nYears','nYearsp']].min(1)\n",
    "R['Ns'] = R['N_bcode']*R['N_bcodep']\n",
    "R = R.drop(['nYearsp','N_bcode','N_bcodep'],1)\n",
    "\n",
    "R['Ns'] = np.log10(R['Ns']+1)\n",
    "R['N_both'] = np.log10(R['N_both']+1)\n",
    "R['nYears'] = np.log10(R['nYears'])"
   ]
  },
  {
   "cell_type": "markdown",
   "metadata": {},
   "source": [
    "\\begin{align}\n",
    "    \\log(R_{ii'}) = & \\ \\beta_0 + \\beta_1 \\log(R_i R_{i'}) + \\beta_2 \\log (\\min\\left\\{ y_i,y_{i'}\\right\\}) + \\gamma_{ii'}\\\\\n",
    "    R_{ii'} = & \\ \\frac{1}{T} \\sum_t \\sum_r M_{ir}^{(t)} M_{i'r}^{(t)} \\\\\n",
    "    R_i = & \\ \\frac{1}{T} \\sum_{t} \\sum_r M_{ir}^{(t)} \\\\    \n",
    "    y_i = & \\ \\sum_t I(R_{i}^{(t)}>1)\n",
    "\\end{align}"
   ]
  },
  {
   "cell_type": "code",
   "execution_count": 6,
   "metadata": {
    "collapsed": false
   },
   "outputs": [
    {
     "name": "stderr",
     "output_type": "stream",
     "text": [
      "/Users/cristian/Dropbox (MIT)/binet/binet/functions.py:299: SettingWithCopyWarning: \n",
      "A value is trying to be set on a copy of a slice from a DataFrame.\n",
      "Try using .loc[row_indexer,col_indexer] = value instead\n",
      "\n",
      "See the caveats in the documentation: http://pandas.pydata.org/pandas-docs/stable/indexing.html#indexing-view-versus-copy\n",
      "  data_[x+'_res'] = Y-model.predict(X)\n"
     ]
    }
   ],
   "source": [
    "fi = bnt.residualNet(R,s='bcode',t='bcodep',x='N_both',numericalControls=['Ns','nYears']).drop(['N_both','nYears','Ns'],1).rename(columns={'N_both_res':'fi'})\n",
    "fi['fi'] = 10**(fi['fi'])"
   ]
  },
  {
   "cell_type": "code",
   "execution_count": 7,
   "metadata": {
    "collapsed": false
   },
   "outputs": [
    {
     "data": {
      "text/plain": [
       "(array([1.832e+03, 2.582e+03, 1.020e+03, 3.040e+02, 7.200e+01, 2.400e+01,\n",
       "        1.200e+01, 2.000e+00, 0.000e+00, 4.000e+00]),\n",
       " array([0.0241201 , 0.8259159 , 1.62771169, 2.42950748, 3.23130328,\n",
       "        4.03309907, 4.83489487, 5.63669066, 6.43848645, 7.24028225,\n",
       "        8.04207804]),\n",
       " <a list of 10 Patch objects>)"
      ]
     },
     "execution_count": 7,
     "metadata": {},
     "output_type": "execute_result"
    },
    {
     "data": {
      "image/png": "[encoded data removed]",
      "text/plain": [
       "<matplotlib.figure.Figure at 0x10e6b6e10>"
      ]
     },
     "metadata": {},
     "output_type": "display_data"
    }
   ],
   "source": [
    "import matplotlib.pyplot as plt\n",
    "%matplotlib inline\n",
    "plt.hist(fi['fi'])"
   ]
  },
  {
   "cell_type": "code",
   "execution_count": null,
   "metadata": {
    "collapsed": true
   },
   "outputs": [],
   "source": []
  },
  {
   "cell_type": "code",
   "execution_count": 8,
   "metadata": {
    "collapsed": false
   },
   "outputs": [
    {
     "name": "stdout",
     "output_type": "stream",
     "text": [
      "Average degree: 1.97402597403\n",
      "Number of communities: 10\n",
      "Average degree: 2.41558441558\n"
     ]
    }
   ],
   "source": [
    "edges = bnt.build_connected(fi,fi['fi'].max(),s='bcode',t='bcodep')\n",
    "nodes = bnt.communities(edges,s='bcode',t='bcodep',node_id='bcode')\n",
    "edges = bnt.build_connected(fi,3.3,s='bcode',t='bcodep')\n",
    "nodes = pd.merge(nodes,bnames,how='left')"
   ]
  },
  {
   "cell_type": "code",
   "execution_count": 9,
   "metadata": {
    "collapsed": false
   },
   "outputs": [],
   "source": [
    "#This export is to construct the network in cytoscape\n",
    "nodes.to_csv('rawNetwork/nodes.csv',encoding='utf-8',index=False)\n",
    "edges.to_csv('rawNetwork/edges.csv',encoding='utf-8',index=False)\n",
    "fi.to_csv('rawNetwork/edgesAll.csv',encoding='utf-8',index=False)"
   ]
  },
  {
   "cell_type": "code",
   "execution_count": 12,
   "metadata": {
    "collapsed": false
   },
   "outputs": [],
   "source": [
    "exportJS('links',edges.rename(columns={'bcode':'parentId','bcodep':'childId','fi':'weight'}))"
   ]
  },
  {
   "cell_type": "markdown",
   "metadata": {},
   "source": [
    "Check cyto for correct network layout"
   ]
  },
  {
   "cell_type": "code",
   "execution_count": 94,
   "metadata": {
    "collapsed": false
   },
   "outputs": [],
   "source": [
    "nodes = pd.read_csv('rawNetwork/nodes.csv')\n",
    "\n",
    "pos = bnt.readCyto('rawNetwork/pos.cyjs').rename(columns={'shared_name':'bcode'})\n",
    "pos['bcode'] = pos['bcode'].astype(int)\n",
    "nodes = pd.merge(nodes,pos,how='left')\n",
    "\n",
    "nodes['x'] = (nodes['x'] - nodes['x'].min())/(nodes['x'].max() - nodes['x'].min())\n",
    "nodes['y'] = (nodes['y'] - nodes['y'].min())/(nodes['y'].max() - nodes['y'].min())"
   ]
  },
  {
   "cell_type": "code",
   "execution_count": 95,
   "metadata": {
    "collapsed": false
   },
   "outputs": [],
   "source": [
    "exportJS('nodesPositions',nodes.rename(columns={'bcode':'id','bname':'name'})[['id','name','community_id','x','y']])"
   ]
  },
  {
   "cell_type": "code",
   "execution_count": 82,
   "metadata": {
    "collapsed": false,
    "scrolled": true
   },
   "outputs": [
    {
     "name": "stderr",
     "output_type": "stream",
     "text": [
      "/usr/local/lib/python2.7/site-packages/ipykernel/__main__.py:14: SettingWithCopyWarning: \n",
      "A value is trying to be set on a copy of a slice from a DataFrame.\n",
      "Try using .loc[row_indexer,col_indexer] = value instead\n",
      "\n",
      "See the caveats in the documentation: http://pandas.pydata.org/pandas-docs/stable/indexing.html#indexing-view-versus-copy\n",
      "/usr/local/lib/python2.7/site-packages/ipykernel/__main__.py:17: SettingWithCopyWarning: \n",
      "A value is trying to be set on a copy of a slice from a DataFrame.\n",
      "Try using .loc[row_indexer,col_indexer] = value instead\n",
      "\n",
      "See the caveats in the documentation: http://pandas.pydata.org/pandas-docs/stable/indexing.html#indexing-view-versus-copy\n"
     ]
    }
   ],
   "source": [
    "net = bnt.calculateRCA(data,y='year',c='cityid',p='bcode',x='X',shares=True).drop('s_bcode',1).fillna(0).rename(columns={'s_cityid':'s'})\n",
    "SE = net.groupby(['year','bcode']).sum()[['X']].reset_index()\n",
    "SE['RCA'] = 1\n",
    "SE = pd.merge(SE,SE.groupby(['year']).sum()[['X']].reset_index().rename(columns={'X':'XSE'}))\n",
    "SE['s'] = SE['X']/SE['XSE']\n",
    "SE = SE.drop('XSE',1)\n",
    "SE['cityid'] = 0\n",
    "net = pd.concat([net,SE]).fillna(0)\n",
    "\n",
    "net = pd.merge(bnt.allCombinations(net,c='cityid',p='bcode',t='year'),net,how='left').fillna(0)\n",
    "net = pd.merge(net,net[net['s']!=0].groupby(['year','cityid']).mean()[['s']].reset_index().rename(columns={'s':'sc'}),how='left')\n",
    "net = pd.merge(net,net[net['s']!=0].groupby(['year','cityid']).std()[['s']].reset_index().rename(columns={'s':'scstd'}),how='left')\n",
    "net['sn'] = net['s']\n",
    "net[net['s']!=0]['sn'] = (net[net['s']!=0]['s']-net[net['s']!=0]['sc'])/net[net['s']!=0]['scstd']\n",
    "net = net.drop(['sc','scstd'],1)\n",
    "net = pd.merge(net,net[net['sn']!=0].groupby(['year','cityid']).min()[['sn']].reset_index().rename(columns={'sn':'snMin'}),how='left')\n",
    "net[net['sn']!=0]['sn'] = net[net['sn']!=0]['sn']-net[net['sn']!=0]['snMin']\n",
    "net = net.drop(['snMin'],1)\n",
    "\n",
    "net['logX'] = np.log10(net['X']+1)\n",
    "net = pd.merge(net,net.groupby(['year','cityid']).max()[['logX']].rename(columns={'logX':'logXmax'}).reset_index(),how='left').fillna(0)\n",
    "net['logX'] = net['logX']/net['logXmax']\n",
    "net = net.drop('logXmax',1).dropna(0)\n",
    "\n",
    "net['RCAb'] = 0\n",
    "net.loc[net['RCA']>=.1,'RCAb'] = 1"
   ]
  },
  {
   "cell_type": "code",
   "execution_count": 83,
   "metadata": {
    "collapsed": true
   },
   "outputs": [],
   "source": [
    "net = pd.merge(net,cnames[['cityid','cityname']])"
   ]
  },
  {
   "cell_type": "code",
   "execution_count": 116,
   "metadata": {
    "collapsed": false
   },
   "outputs": [],
   "source": [
    "out = net[net['logX']>0][['year','cityname','bcode','RCAb','logX','X','s']].rename(columns={'RCAb':'activated','cityname':'city','bcode':'id','logX':'size','X':'export','s':'share'})\n",
    "exportJS('nodesChanges',out)"
   ]
  },
  {
   "cell_type": "code",
   "execution_count": null,
   "metadata": {
    "collapsed": true
   },
   "outputs": [],
   "source": []
  },
  {
   "cell_type": "code",
   "execution_count": 111,
   "metadata": {
    "collapsed": false
   },
   "outputs": [],
   "source": [
    "cities = net.groupby(['year','cityname']).sum()[['X']].reset_index()\n",
    "cities = pd.merge(cities,net[net['RCA']>=1].groupby(['year','cityname']).count()[['bcode']].reset_index().rename(columns={'bcode':'nProducts'}),how='left').fillna(0)\n",
    "exportJS('citiesMetadata',cities.rename(columns={'cityname':'city','X':'export'}))"
   ]
  },
  {
   "cell_type": "code",
   "execution_count": null,
   "metadata": {
    "collapsed": true
   },
   "outputs": [],
   "source": []
  }
 ],
 "metadata": {
  "kernelspec": {
   "display_name": "Python 2",
   "language": "python",
   "name": "python2"
  },
  "language_info": {
   "codemirror_mode": {
    "name": "ipython",
    "version": 2
   },
   "file_extension": ".py",
   "mimetype": "text/x-python",
   "name": "python",
   "nbconvert_exporter": "python",
   "pygments_lexer": "ipython2",
   "version": "2.7.14"
  }
 },
 "nbformat": 4,
 "nbformat_minor": 1
}
